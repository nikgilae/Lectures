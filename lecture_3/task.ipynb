{
 "cells": [
  {
   "cell_type": "code",
   "execution_count": 7,
   "id": "7180c822",
   "metadata": {},
   "outputs": [],
   "source": [
    "low = -1000\n",
    "high = 1000\n"
   ]
  },
  {
   "cell_type": "code",
   "execution_count": 8,
   "id": "42bcf6b5",
   "metadata": {},
   "outputs": [
    {
     "name": "stdout",
     "output_type": "stream",
     "text": [
      "0\n",
      "500\n",
      "750\n",
      "625\n",
      "687\n",
      "656 Win\n"
     ]
    }
   ],
   "source": [
    "while True:\n",
    "    mid = (low + high) // 2\n",
    "    region =input(f\"Скажите, ваше число <, > или == {mid} (или exit): \")\n",
    "    if region== 'exit':\n",
    "        print('EXIT')\n",
    "        break\n",
    "    elif region == '==':\n",
    "        print(f'{mid} Win')\n",
    "        break\n",
    "    elif region == '<':\n",
    "        high = mid - 1\n",
    "        print(mid)\n",
    "    elif region == '>':\n",
    "        low = mid + 1\n",
    "        print(mid)\n",
    "    else:\n",
    "        print('error')\n"
   ]
  }
 ],
 "metadata": {
  "kernelspec": {
   "display_name": "lecture-3",
   "language": "python",
   "name": "python3"
  },
  "language_info": {
   "codemirror_mode": {
    "name": "ipython",
    "version": 3
   },
   "file_extension": ".py",
   "mimetype": "text/x-python",
   "name": "python",
   "nbconvert_exporter": "python",
   "pygments_lexer": "ipython3",
   "version": "3.14.0rc2"
  }
 },
 "nbformat": 4,
 "nbformat_minor": 5
}
