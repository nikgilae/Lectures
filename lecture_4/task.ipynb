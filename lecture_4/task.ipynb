{
 "cells": [
  {
   "cell_type": "code",
   "execution_count": 13,
   "id": "0e1dc871",
   "metadata": {},
   "outputs": [
    {
     "name": "stdout",
     "output_type": "stream",
     "text": [
      "    1\n",
      "   1 1\n",
      "  1 2 1\n",
      " 1 3 3 1\n",
      "1 4 6 4 1\n"
     ]
    }
   ],
   "source": [
    "stroka = int(input(\"Введите число строк, до которой будет идти треугольник: \"))\n",
    "row = [1]\n",
    "spaces_count = stroka - 1\n",
    "print(\" \" * spaces_count, end=\"\")\n",
    "print(*row)\n",
    "spaces_count -= 1\n",
    "\n",
    "for i in range(stroka - 1):\n",
    "    \n",
    "    next_row = [1]\n",
    "    for j in range(len(row) - 1):\n",
    "        number_1 = row[j]\n",
    "        number_2 = row[j + 1]\n",
    "        sum1 = number_1 + number_2\n",
    "        next_row.append(sum1)\n",
    "    next_row.append(1) \n",
    "    print(\" \" * spaces_count, end=\"\")\n",
    "    print(*next_row)\n",
    "    spaces_count -= 1\n",
    "    \n",
    "    row = next_row"
   ]
  }
 ],
 "metadata": {
  "kernelspec": {
   "display_name": "lecture-4",
   "language": "python",
   "name": "python3"
  },
  "language_info": {
   "codemirror_mode": {
    "name": "ipython",
    "version": 3
   },
   "file_extension": ".py",
   "mimetype": "text/x-python",
   "name": "python",
   "nbconvert_exporter": "python",
   "pygments_lexer": "ipython3",
   "version": "3.14.0rc2"
  }
 },
 "nbformat": 4,
 "nbformat_minor": 5
}
