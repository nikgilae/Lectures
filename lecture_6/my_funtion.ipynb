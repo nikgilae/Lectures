{
 "cells": [
  {
   "cell_type": "code",
   "execution_count": 1,
   "id": "72617351",
   "metadata": {},
   "outputs": [],
   "source": [
    "from rich import print as rich_print"
   ]
  },
  {
   "cell_type": "code",
   "execution_count": 2,
   "id": "268ba9fc",
   "metadata": {},
   "outputs": [],
   "source": [
    "def greet(*, name: str):\n",
    "  rich_print(f\"[red bold]Hello, {name}[/red bold]\")"
   ]
  },
  {
   "cell_type": "code",
   "execution_count": 3,
   "id": "58b03730",
   "metadata": {},
   "outputs": [],
   "source": [
    "def change_name(*, name: str):\n",
    "  changed_name = \"\"\n",
    "  for index, char in enumerate(name):\n",
    "    if index % 2 == 0:\n",
    "      changed_name += char.upper()\n",
    "    else: \n",
    "      changed_name += char\n",
    "  return changed_name"
   ]
  },
  {
   "cell_type": "code",
   "execution_count": 4,
   "id": "c104063a",
   "metadata": {},
   "outputs": [
    {
     "data": {
      "text/html": [
       "<pre style=\"white-space:pre;overflow-x:auto;line-height:normal;font-family:Menlo,'DejaVu Sans Mono',consolas,'Courier New',monospace\"><span style=\"color: #800000; text-decoration-color: #800000; font-weight: bold\">Hello, NiKiTa</span>\n",
       "</pre>\n"
      ],
      "text/plain": [
       "\u001b[1;31mHello, NiKiTa\u001b[0m\n"
      ]
     },
     "metadata": {},
     "output_type": "display_data"
    }
   ],
   "source": [
    "my_name = change_name(name=\"nikita\")\n",
    "greet(name=my_name)\n"
   ]
  }
 ],
 "metadata": {
  "kernelspec": {
   "display_name": "lecture-6",
   "language": "python",
   "name": "python3"
  },
  "language_info": {
   "codemirror_mode": {
    "name": "ipython",
    "version": 3
   },
   "file_extension": ".py",
   "mimetype": "text/x-python",
   "name": "python",
   "nbconvert_exporter": "python",
   "pygments_lexer": "ipython3",
   "version": "3.12.3"
  }
 },
 "nbformat": 4,
 "nbformat_minor": 5
}
