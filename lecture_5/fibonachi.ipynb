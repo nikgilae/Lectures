{
 "cells": [
  {
   "cell_type": "markdown",
   "id": "21c0f3d1",
   "metadata": {},
   "source": [
    "Числа фибоначи\n"
   ]
  },
  {
   "cell_type": "code",
   "execution_count": 9,
   "id": "514396f6",
   "metadata": {},
   "outputs": [],
   "source": [
    "n = int(input(\"Vvedite chislo: \"))\n"
   ]
  },
  {
   "cell_type": "code",
   "execution_count": 10,
   "id": "9306ab28",
   "metadata": {},
   "outputs": [
    {
     "name": "stdout",
     "output_type": "stream",
     "text": [
      "75025\n"
     ]
    }
   ],
   "source": [
    "def fibonachi(n): \n",
    "  \n",
    "  if n== 0:\n",
    "    return 0\n",
    "  elif n == 1:\n",
    "    return 1\n",
    "  else:\n",
    "    return fibonachi(n - 1) + fibonachi(n - 2)\n",
    "\n",
    "print(fibonachi(n))"
   ]
  }
 ],
 "metadata": {
  "kernelspec": {
   "display_name": "lecture-5",
   "language": "python",
   "name": "python3"
  },
  "language_info": {
   "codemirror_mode": {
    "name": "ipython",
    "version": 3
   },
   "file_extension": ".py",
   "mimetype": "text/x-python",
   "name": "python",
   "nbconvert_exporter": "python",
   "pygments_lexer": "ipython3",
   "version": "3.14.0rc2"
  }
 },
 "nbformat": 4,
 "nbformat_minor": 5
}
