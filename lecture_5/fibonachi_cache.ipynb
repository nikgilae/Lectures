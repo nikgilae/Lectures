{
 "cells": [
  {
   "cell_type": "code",
   "execution_count": 3,
   "id": "0238dea9",
   "metadata": {},
   "outputs": [],
   "source": [
    "import time\n",
    "n = int(input(\"Vvedite chislo: \"))\n",
    "cache1 = {}"
   ]
  },
  {
   "cell_type": "code",
   "execution_count": 4,
   "id": "0de4aad4",
   "metadata": {},
   "outputs": [
    {
     "name": "stdout",
     "output_type": "stream",
     "text": [
      "251728825683549488150424261\n"
     ]
    }
   ],
   "source": [
    "def fibonachi(n): \n",
    "  if n in cache1:\n",
    "    return cache1[n]\n",
    "  if n== 0:\n",
    "    return 0\n",
    "\n",
    "  elif n == 1:\n",
    "    return 1\n",
    "  else:\n",
    "    result = fibonachi(n - 1) + fibonachi(n - 2)\n",
    "    cache1[n] = result\n",
    "    return result\n",
    "\n",
    "print(fibonachi(n))"
   ]
  }
 ],
 "metadata": {
  "kernelspec": {
   "display_name": "lecture-5",
   "language": "python",
   "name": "python3"
  },
  "language_info": {
   "codemirror_mode": {
    "name": "ipython",
    "version": 3
   },
   "file_extension": ".py",
   "mimetype": "text/x-python",
   "name": "python",
   "nbconvert_exporter": "python",
   "pygments_lexer": "ipython3",
   "version": "3.14.0rc2"
  }
 },
 "nbformat": 4,
 "nbformat_minor": 5
}
