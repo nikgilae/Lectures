{
 "cells": [
  {
   "cell_type": "code",
   "execution_count": 3,
   "id": "55bfe5e0",
   "metadata": {},
   "outputs": [],
   "source": [
    "from rich import print as rich_print\n",
    "film = input('Хочешь ли ты сняться в кино ??:[yes/no] ')"
   ]
  },
  {
   "cell_type": "code",
   "execution_count": 4,
   "id": "a9820bcd",
   "metadata": {},
   "outputs": [
    {
     "data": {
      "text/html": [
       "<pre style=\"white-space:pre;overflow-x:auto;line-height:normal;font-family:Menlo,'DejaVu Sans Mono',consolas,'Courier New',monospace\"><span style=\"color: #800000; text-decoration-color: #800000; font-weight: bold\"> Идите домой</span>\n",
       "</pre>\n"
      ],
      "text/plain": [
       "\u001b[1;31m Идите домой\u001b[0m\n"
      ]
     },
     "metadata": {},
     "output_type": "display_data"
    }
   ],
   "source": [
    "if film.lower()== 'yes':\n",
    "  role = input('Есть две роли Халк и Локи, кого выберешь ??: [Hulk/Loki]')\n",
    "  if role == 'Hulk':\n",
    "    biceps = int(input('Какой у тебя обхват бицепса ?: '))\n",
    "    if biceps >= 60:\n",
    "      rich_print('[bold green] Вы приняты')\n",
    "    elif biceps <= 60:\n",
    "      rich_print('[bold red] Идите домой')\n",
    "    else:\n",
    "      rich_print(' [bold black] Error')\n",
    "  elif role == 'Loki':\n",
    "    love = input('Кого ты больше любишь ?:[dad/mom] ')\n",
    "    if love.lower() == 'dad':\n",
    "      rich_print('[bold red] Идите домой')\n",
    "    elif love.lower() =='mom':\n",
    "      rich_print('[bold green] Иди к отцу, спроси кого любит он')\n",
    "    else:\n",
    "      rich_print ('[bold black] Error')\n",
    "  else:\n",
    "    rich_print('[bold black] Error')  \n",
    "elif film.lower()=='no':\n",
    "  rich_print('[bold red] Идите домой')\n",
    "else:\n",
    "  rich_print('[bold black] Error')\n"
   ]
  }
 ],
 "metadata": {
  "kernelspec": {
   "display_name": "lecture-2",
   "language": "python",
   "name": "python3"
  },
  "language_info": {
   "codemirror_mode": {
    "name": "ipython",
    "version": 3
   },
   "file_extension": ".py",
   "mimetype": "text/x-python",
   "name": "python",
   "nbconvert_exporter": "python",
   "pygments_lexer": "ipython3",
   "version": "3.14.0rc2"
  }
 },
 "nbformat": 4,
 "nbformat_minor": 5
}
