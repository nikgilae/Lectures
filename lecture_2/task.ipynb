{
 "cells": [
  {
   "cell_type": "code",
   "execution_count": 9,
   "id": "55bfe5e0",
   "metadata": {},
   "outputs": [],
   "source": [
    "from rich import print as rich_print\n",
    "film = input('Хочешь ли ты сняться в кино ??:[yes/no] ')"
   ]
  },
  {
   "cell_type": "code",
   "execution_count": 10,
   "id": "a9820bcd",
   "metadata": {},
   "outputs": [
    {
     "data": {
      "text/html": [
       "<pre style=\"white-space:pre;overflow-x:auto;line-height:normal;font-family:Menlo,'DejaVu Sans Mono',consolas,'Courier New',monospace\"><span style=\"color: #000080; text-decoration-color: #000080; font-weight: bold\"> role: </span> Hulk\n",
       "</pre>\n"
      ],
      "text/plain": [
       "\u001b[1;34m role: \u001b[0m Hulk\n"
      ]
     },
     "metadata": {},
     "output_type": "display_data"
    },
    {
     "data": {
      "text/html": [
       "<pre style=\"white-space:pre;overflow-x:auto;line-height:normal;font-family:Menlo,'DejaVu Sans Mono',consolas,'Courier New',monospace\"> biceps:  <span style=\"color: #008080; text-decoration-color: #008080; font-weight: bold\">65</span>\n",
       "</pre>\n"
      ],
      "text/plain": [
       " biceps:  \u001b[1;36m65\u001b[0m\n"
      ]
     },
     "metadata": {},
     "output_type": "display_data"
    },
    {
     "data": {
      "text/html": [
       "<pre style=\"white-space:pre;overflow-x:auto;line-height:normal;font-family:Menlo,'DejaVu Sans Mono',consolas,'Courier New',monospace\"><span style=\"color: #008000; text-decoration-color: #008000; font-weight: bold\"> Вы приняты</span>\n",
       "</pre>\n"
      ],
      "text/plain": [
       "\u001b[1;32m Вы приняты\u001b[0m\n"
      ]
     },
     "metadata": {},
     "output_type": "display_data"
    }
   ],
   "source": [
    "if film.lower()== 'yes':\n",
    "  role = input('Есть две роли Халк и Локи, кого выберешь ??: [Hulk/Loki]')\n",
    "  rich_print('[bold blue] role: ', role)\n",
    "  if role == 'Hulk':\n",
    "    biceps = int(input('Какой у тебя обхват бицепса ?: '))\n",
    "    rich_print('[bold orange] biceps: ', biceps)\n",
    "    if biceps >= 60:\n",
    "      rich_print('[bold green] Вы приняты')\n",
    "    elif biceps <= 60:\n",
    "      rich_print('[bold red] Идите домой')\n",
    "    else:\n",
    "      rich_print(' [bold black] Error')\n",
    "  elif role == 'Loki':\n",
    "    love = input('Кого ты больше любишь ?:[dad/mom] ')\n",
    "    rich_print('[bold orange] love: ', love)\n",
    "    if love.lower() == 'dad':\n",
    "      rich_print('[bold red] Идите домой')\n",
    "    elif love.lower() =='mom':\n",
    "      rich_print('[bold green] Иди к отцу, спроси кого любит он')\n",
    "    else:\n",
    "      rich_print ('[bold black] Error')\n",
    "  else:\n",
    "    rich_print('[bold black] Error')  \n",
    "elif film.lower()=='no':\n",
    "  rich_print('[bold red] Идите домой')\n",
    "else:\n",
    "  rich_print('[bold black] Error')\n"
   ]
  }
 ],
 "metadata": {
  "kernelspec": {
   "display_name": "Python 3",
   "language": "python",
   "name": "python3"
  },
  "language_info": {
   "codemirror_mode": {
    "name": "ipython",
    "version": 3
   },
   "file_extension": ".py",
   "mimetype": "text/x-python",
   "name": "python",
   "nbconvert_exporter": "python",
   "pygments_lexer": "ipython3",
   "version": "3.14.0"
  }
 },
 "nbformat": 4,
 "nbformat_minor": 5
}
